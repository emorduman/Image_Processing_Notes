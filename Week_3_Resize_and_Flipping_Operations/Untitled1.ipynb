{
 "cells": [
  {
   "cell_type": "code",
   "execution_count": 40,
   "id": "917d7395-61cc-41f9-9a96-2b885b99a939",
   "metadata": {},
   "outputs": [],
   "source": [
    "import cv2\n",
    "import numpy as np"
   ]
  },
  {
   "cell_type": "code",
   "execution_count": 42,
   "id": "e0b7ecfb-5937-473c-bd18-0917b4f12df4",
   "metadata": {},
   "outputs": [
    {
     "name": "stdout",
     "output_type": "stream",
     "text": [
      "(183, 275, 3)\n"
     ]
    }
   ],
   "source": [
    "my_img = cv2.imread(\"./kanarya.jpg\",1)\n",
    "print(my_img.shape)"
   ]
  },
  {
   "cell_type": "code",
   "execution_count": 44,
   "id": "beea02de-e881-4086-99f8-46cc00dc32fd",
   "metadata": {},
   "outputs": [],
   "source": [
    "cv2.imshow(\"RGB Image\" ,my_img)\n",
    "cv2.waitKey(0)\n",
    "cv2.destroyAllWindows()"
   ]
  },
  {
   "cell_type": "code",
   "execution_count": 46,
   "id": "5e6657f8-898c-4b67-a1b4-9432f0b16ca4",
   "metadata": {},
   "outputs": [],
   "source": [
    "img_vertical = cv2.flip(my_img,0)\n",
    "img_horizontal = cv2.flip(my_img,1)\n",
    "img_both= cv2.flip(my_img,-1)"
   ]
  },
  {
   "cell_type": "code",
   "execution_count": 48,
   "id": "245bab45-159c-4a83-b5f5-ddb52778f86e",
   "metadata": {},
   "outputs": [],
   "source": [
    "cv2.imshow(\"Original Image\" ,my_img)\n",
    "cv2.imshow(\"Vertical Image\" ,img_vertical)\n",
    "cv2.imshow(\"Horizontal Image\" ,img_horizontal)\n",
    "cv2.imshow(\"Vertical and Horizontal Image\" ,img_both)\n",
    "cv2.waitKey(0)\n",
    "cv2.destroyAllWindows()"
   ]
  },
  {
   "cell_type": "code",
   "execution_count": 50,
   "id": "e54afa01-b31f-4597-b14f-88cd5b9af12a",
   "metadata": {},
   "outputs": [],
   "source": [
    "vertical_with_code = my_img[::-1,:,:]\n",
    "cv2.imshow(\"Vertical Image With Code\", vertical_with_code)\n",
    "cv2.waitKey(0)\n",
    "cv2.destroyAllWindows()"
   ]
  },
  {
   "cell_type": "code",
   "execution_count": 52,
   "id": "4ff5df6c-958e-4365-8db6-e2c73a2b21fc",
   "metadata": {},
   "outputs": [
    {
     "name": "stdout",
     "output_type": "stream",
     "text": [
      "(183, 275, 3)\n",
      "Görüntünün Yüksekliği = 183\n",
      "Görüntünün Genişliği = 275\n",
      "Görüntünün Kanal Sayısı = 3\n"
     ]
    }
   ],
   "source": [
    "print(my_img.shape)\n",
    "print(f\"Görüntünün Yüksekliği = {my_img.shape[0]}\")\n",
    "print(f\"Görüntünün Genişliği = {my_img.shape[1]}\")\n",
    "print(f\"Görüntünün Kanal Sayısı = {my_img.shape[2]}\")"
   ]
  },
  {
   "cell_type": "code",
   "execution_count": 58,
   "id": "eb5746ab-f55c-43cc-91fb-c6d1740c003e",
   "metadata": {},
   "outputs": [],
   "source": [
    "resized_img = cv2.resize(my_img,(600,450),cv2.INTER_LANCZOS4)\n",
    "\n",
    "cv2.imshow(\"Original Image\", my_img)\n",
    "cv2.imshow(\"Resized Image\", resized_img)\n",
    "cv2.waitKey(0)\n",
    "cv2.destroyAllWindows()"
   ]
  },
  {
   "cell_type": "code",
   "execution_count": null,
   "id": "c896bcaf-fc0c-43c2-9603-7373dde4efbb",
   "metadata": {},
   "outputs": [],
   "source": []
  }
 ],
 "metadata": {
  "kernelspec": {
   "display_name": "env_ybs",
   "language": "python",
   "name": "env_ybs"
  },
  "language_info": {
   "codemirror_mode": {
    "name": "ipython",
    "version": 3
   },
   "file_extension": ".py",
   "mimetype": "text/x-python",
   "name": "python",
   "nbconvert_exporter": "python",
   "pygments_lexer": "ipython3",
   "version": "3.10.10"
  }
 },
 "nbformat": 4,
 "nbformat_minor": 5
}
